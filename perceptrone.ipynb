{
  "nbformat": 4,
  "nbformat_minor": 0,
  "metadata": {
    "colab": {
      "provenance": []
    },
    "kernelspec": {
      "name": "python3",
      "display_name": "Python 3"
    },
    "language_info": {
      "name": "python"
    }
  },
  "cells": [
    {
      "cell_type": "code",
      "execution_count": 29,
      "metadata": {
        "id": "NuTKBOU2cRVA"
      },
      "outputs": [],
      "source": [
        "import numpy as np\n",
        "from matplotlib import pyplot as plt"
      ]
    },
    {
      "cell_type": "code",
      "source": [
        "features = np.array([\n",
        "    [0.2,0.3],\n",
        "    [0.2,0.8],\n",
        "    [0.8,0.2],\n",
        "    [1,0.8]\n",
        "])"
      ],
      "metadata": {
        "id": "j8pmyOWk9Z9k"
      },
      "execution_count": 30,
      "outputs": []
    },
    {
      "cell_type": "code",
      "source": [
        "lables = np.array([0,0,0,1])\n",
        "weight = [0.9,0.9]"
      ],
      "metadata": {
        "id": "_hzXC8gL9eg4"
      },
      "execution_count": 31,
      "outputs": []
    },
    {
      "cell_type": "code",
      "source": [
        "threshold = 0.5\n",
        "learning_rate = 0.1\n",
        "epoch = 5"
      ],
      "metadata": {
        "id": "PhLInSCGBPQz"
      },
      "execution_count": 32,
      "outputs": []
    },
    {
      "cell_type": "code",
      "source": [
        "for j in range(epoch):\n",
        "  print(\"epoch :\" , j)\n",
        "  for i in range(features.shape[0]):\n",
        "    instance = features[i]\n",
        "    actual = lables[i]\n",
        "\n",
        "    x0 = instance[0]\n",
        "    x1 = instance[1]\n",
        "\n",
        "    sum_unit = x0 * weight[0] + x1 * weight[1]\n",
        "    if sum_unit > threshold:\n",
        "      s = 1\n",
        "    else:\n",
        "      s = 0\n",
        "\n",
        "    delta = actual - s\n",
        "\n",
        "    weight[0] = weight[0] + delta * learning_rate\n",
        "    weight[1] = weight[1] + delta * learning_rate\n",
        "\n",
        "    print(\"predict :\" ,s , \" actual :\",  actual , \" Error :\" , delta)\n",
        "  print(\"----------------------------------------\")\n",
        "\n"
      ],
      "metadata": {
        "id": "fge2VYih-Td8",
        "outputId": "9731c3f7-f234-49e9-cca5-5f9671618efe",
        "colab": {
          "base_uri": "https://localhost:8080/"
        }
      },
      "execution_count": 33,
      "outputs": [
        {
          "output_type": "stream",
          "name": "stdout",
          "text": [
            "epoch : 0\n",
            "predict : 0  actual : 0  Error : 0\n",
            "predict : 1  actual : 0  Error : -1\n",
            "predict : 1  actual : 0  Error : -1\n",
            "predict : 1  actual : 1  Error : 0\n",
            "----------------------------------------\n",
            "epoch : 1\n",
            "predict : 0  actual : 0  Error : 0\n",
            "predict : 1  actual : 0  Error : -1\n",
            "predict : 1  actual : 0  Error : -1\n",
            "predict : 1  actual : 1  Error : 0\n",
            "----------------------------------------\n",
            "epoch : 2\n",
            "predict : 0  actual : 0  Error : 0\n",
            "predict : 1  actual : 0  Error : -1\n",
            "predict : 0  actual : 0  Error : 0\n",
            "predict : 1  actual : 1  Error : 0\n",
            "----------------------------------------\n",
            "epoch : 3\n",
            "predict : 0  actual : 0  Error : 0\n",
            "predict : 0  actual : 0  Error : 0\n",
            "predict : 0  actual : 0  Error : 0\n",
            "predict : 1  actual : 1  Error : 0\n",
            "----------------------------------------\n",
            "epoch : 4\n",
            "predict : 0  actual : 0  Error : 0\n",
            "predict : 0  actual : 0  Error : 0\n",
            "predict : 0  actual : 0  Error : 0\n",
            "predict : 1  actual : 1  Error : 0\n",
            "----------------------------------------\n"
          ]
        }
      ]
    },
    {
      "cell_type": "code",
      "source": [
        "weight"
      ],
      "metadata": {
        "id": "jKEh74IYEQRY",
        "outputId": "b1e29cb4-08be-416b-de2d-9466393b6c46",
        "colab": {
          "base_uri": "https://localhost:8080/"
        }
      },
      "execution_count": 34,
      "outputs": [
        {
          "output_type": "execute_result",
          "data": {
            "text/plain": [
              "[0.40000000000000013, 0.40000000000000013]"
            ]
          },
          "metadata": {},
          "execution_count": 34
        }
      ]
    },
    {
      "cell_type": "code",
      "source": [
        "colours = ('green', 'orange')\n",
        "fig, ax = plt.subplots()\n",
        "for i in range(2):\n",
        "    ax.scatter(features[lables==i][:, 0],\n",
        "               features[lables==i][:, 1],\n",
        "               c=colours[i],\n",
        "               s=50,\n",
        "               label=str(i))"
      ],
      "metadata": {
        "colab": {
          "base_uri": "https://localhost:8080/",
          "height": 430
        },
        "id": "dzqRqNWZKDLz",
        "outputId": "8df7463d-c491-4012-b8ce-8904914213a9"
      },
      "execution_count": 35,
      "outputs": [
        {
          "output_type": "display_data",
          "data": {
            "text/plain": [
              "<Figure size 640x480 with 1 Axes>"
            ],
            "image/png": "[encoded data removed]"
          },
          "metadata": {}
        }
      ]
    }
  ]
}