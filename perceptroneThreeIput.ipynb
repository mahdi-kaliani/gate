{
  "nbformat": 4,
  "nbformat_minor": 0,
  "metadata": {
    "colab": {
      "provenance": []
    },
    "kernelspec": {
      "name": "python3",
      "display_name": "Python 3"
    },
    "language_info": {
      "name": "python"
    }
  },
  "cells": [
    {
      "cell_type": "code",
      "execution_count": 72,
      "metadata": {
        "id": "NuTKBOU2cRVA"
      },
      "outputs": [],
      "source": [
        "import numpy as np\n",
        "from matplotlib import pyplot as plt"
      ]
    },
    {
      "cell_type": "code",
      "source": [
        "features = np.array([\n",
        "    [0.2,0.3,0.3],\n",
        "    [0.2,0.3,0.8],\n",
        "    [0.2,0.8,0.2],\n",
        "    [0.4,1,0.8],\n",
        "    [1,0,0.2],\n",
        "    [0.8,0.2,1],\n",
        "    [1,1,0],\n",
        "    [1,0.8,0.9]\n",
        "])"
      ],
      "metadata": {
        "id": "j8pmyOWk9Z9k"
      },
      "execution_count": 73,
      "outputs": []
    },
    {
      "cell_type": "code",
      "source": [
        "lables = np.array([0,0,0,0,0,0,0,1])\n",
        "weight = [0.9,0.9,0.9]"
      ],
      "metadata": {
        "id": "_hzXC8gL9eg4"
      },
      "execution_count": 74,
      "outputs": []
    },
    {
      "cell_type": "code",
      "source": [
        "threshold = 0.5\n",
        "learning_rate = 0.1\n",
        "epoch = 3"
      ],
      "metadata": {
        "id": "PhLInSCGBPQz"
      },
      "execution_count": 75,
      "outputs": []
    },
    {
      "cell_type": "code",
      "source": [
        "for j in range(epoch):\n",
        "  print(\"epoch :\" , j)\n",
        "  for i in range(features.shape[0]):\n",
        "    instance = features[i]\n",
        "    actual = lables[i]\n",
        "\n",
        "    x0 = instance[0]\n",
        "    x1 = instance[1]\n",
        "    x2 = instance[2]\n",
        "\n",
        "    sum_unit = x0 * weight[0] + x1 * weight[1] + x2 * weight[2]\n",
        "    if sum_unit > threshold:\n",
        "      s = 1\n",
        "    else:\n",
        "      s = 0\n",
        "\n",
        "    delta = actual - s\n",
        "\n",
        "    weight[0] = weight[0] + delta * learning_rate\n",
        "    weight[1] = weight[1] + delta * learning_rate\n",
        "    weight[2] = weight[2] + delta * learning_rate\n",
        "\n",
        "    print(\"predict :\" ,s , \" actual :\",  actual , \" Error :\" , delta)\n",
        "  print(\"----------------------------------------\")\n",
        "\n"
      ],
      "metadata": {
        "id": "fge2VYih-Td8",
        "outputId": "9e06b33b-d02e-475f-b058-303751b0fc56",
        "colab": {
          "base_uri": "https://localhost:8080/"
        }
      },
      "execution_count": 76,
      "outputs": [
        {
          "output_type": "stream",
          "name": "stdout",
          "text": [
            "epoch : 0\n",
            "predict : 1  actual : 0  Error : -1\n",
            "predict : 1  actual : 0  Error : -1\n",
            "predict : 1  actual : 0  Error : -1\n",
            "predict : 1  actual : 0  Error : -1\n",
            "predict : 1  actual : 0  Error : -1\n",
            "predict : 1  actual : 0  Error : -1\n",
            "predict : 1  actual : 0  Error : -1\n",
            "predict : 1  actual : 1  Error : 0\n",
            "----------------------------------------\n",
            "epoch : 1\n",
            "predict : 0  actual : 0  Error : 0\n",
            "predict : 0  actual : 0  Error : 0\n",
            "predict : 0  actual : 0  Error : 0\n",
            "predict : 0  actual : 0  Error : 0\n",
            "predict : 0  actual : 0  Error : 0\n",
            "predict : 0  actual : 0  Error : 0\n",
            "predict : 0  actual : 0  Error : 0\n",
            "predict : 1  actual : 1  Error : 0\n",
            "----------------------------------------\n",
            "epoch : 2\n",
            "predict : 0  actual : 0  Error : 0\n",
            "predict : 0  actual : 0  Error : 0\n",
            "predict : 0  actual : 0  Error : 0\n",
            "predict : 0  actual : 0  Error : 0\n",
            "predict : 0  actual : 0  Error : 0\n",
            "predict : 0  actual : 0  Error : 0\n",
            "predict : 0  actual : 0  Error : 0\n",
            "predict : 1  actual : 1  Error : 0\n",
            "----------------------------------------\n"
          ]
        }
      ]
    },
    {
      "cell_type": "code",
      "source": [
        "weight"
      ],
      "metadata": {
        "id": "jKEh74IYEQRY",
        "outputId": "4c356fef-9056-4c65-86cf-b0278813e24b",
        "colab": {
          "base_uri": "https://localhost:8080/"
        }
      },
      "execution_count": 77,
      "outputs": [
        {
          "output_type": "execute_result",
          "data": {
            "text/plain": [
              "[0.20000000000000015, 0.20000000000000015, 0.20000000000000015]"
            ]
          },
          "metadata": {},
          "execution_count": 77
        }
      ]
    },
    {
      "cell_type": "code",
      "source": [
        "colours = ('green', 'orange')\n",
        "fig, ax = plt.subplots()\n",
        "for i in range(2):\n",
        "    ax.scatter(features[lables==i][:, 0],\n",
        "               features[lables==i][:, 1],\n",
        "               c=colours[i],\n",
        "               s=50,\n",
        "               label=str(i))"
      ],
      "metadata": {
        "colab": {
          "base_uri": "https://localhost:8080/",
          "height": 430
        },
        "id": "dzqRqNWZKDLz",
        "outputId": "a346f406-a4d1-4521-a5fb-12c222fba941"
      },
      "execution_count": 78,
      "outputs": [
        {
          "output_type": "display_data",
          "data": {
            "text/plain": [
              "<Figure size 640x480 with 1 Axes>"
            ],
            "image/png": "[encoded data removed]"
          },
          "metadata": {}
        }
      ]
    }
  ]
}